{
 "cells": [
  {
   "cell_type": "markdown",
   "metadata": {},
   "source": [
    "# Optimization of the snake parameters"
   ]
  },
  {
   "cell_type": "markdown",
   "metadata": {},
   "source": [
    "The goal is to find the best parametrization for Cobra, i.e get the parameters that make the learninship as efficient as possible. First let import the files we need : "
   ]
  },
  {
   "cell_type": "code",
   "execution_count": 105,
   "metadata": {},
   "outputs": [],
   "source": [
    "import os\n",
    "import sys\n",
    "import math\n",
    "import pygame\n",
    "import random\n",
    "\n",
    "import tensorflow\n",
    "from keras.models import Sequential\n",
    "from keras.layers import Dense, Dropout\n",
    "from keras.optimizers import Adam\n",
    "\n",
    "import numpy as np\n",
    "import matplotlib.pyplot as plt\n",
    "from mpl_toolkits.mplot3d import Axes3D\n",
    "\n",
    "from collections import deque\n",
    "\n",
    "import numpy as np\n",
    "\n",
    "from Env import Env\n",
    "from Viper import Viper"
   ]
  },
  {
   "cell_type": "markdown",
   "metadata": {},
   "source": [
    "### To delete :"
   ]
  },
  {
   "cell_type": "code",
   "execution_count": 3,
   "metadata": {},
   "outputs": [],
   "source": [
    "class Cobra :\n",
    "    def __init__(self, epsilon_decay = 0.995, learning_rate = 0.001):\n",
    "        self.memory  = deque(maxlen=2000)\n",
    "\n",
    "        self.gamma = 0.95\n",
    "        self.epsilon = 1.0\n",
    "        self.epsilon_min = 0.01\n",
    "        self.epsilon_decay = epsilon_decay\n",
    "        self.learning_rate = learning_rate\n",
    "\n",
    "        self.model = self.create_model()\n",
    "        # \"hack\" implemented by DeepMind to improve convergence\n",
    "        self.target_model = self.create_model()\n",
    "\n",
    "    def create_model(self):\n",
    "        model = Sequential()\n",
    "        model.add(Dense(10, input_dim=8, activation=\"relu\"))\n",
    "        model.add(Dense(24, activation=\"relu\"))\n",
    "        model.add(Dense(24, activation=\"relu\"))\n",
    "        model.add(Dense(4, activation='linear'))\n",
    "        model.compile(loss=\"mean_squared_error\", optimizer=Adam(lr=self.learning_rate))\n",
    "        return model\n",
    "\n",
    "    def remember(self, state, action, reward, new_state, done):\n",
    "        self.memory.append([state, action, reward, new_state, done])\n",
    "\n",
    "    def replay(self):\n",
    "        batch_size = 32\n",
    "        if len(self.memory) < batch_size:\n",
    "            return\n",
    "\n",
    "        samples = random.sample(self.memory, batch_size)\n",
    "        for sample in samples:\n",
    "            state, action, reward, new_state, done = sample\n",
    "            target = reward\n",
    "            if not done:\n",
    "                target = reward + self.gamma * np.amax(self.model.predict(new_state)[0])\n",
    "            target_f = self.model.predict(state)\n",
    "            target_f[0][action] = target\n",
    "            self.model.fit(state, target_f, epochs=1, verbose=0)\n",
    "\n",
    "        self.epsilon *= self.epsilon_decay\n",
    "        self.epsilon = max(self.epsilon_min, self.epsilon)\n",
    "\n",
    "    def target_train(self):\n",
    "        weights = self.model.get_weights()\n",
    "        target_weights = self.target_model.get_weights()\n",
    "        for i in range(len(target_weights)):\n",
    "            target_weights[i] = weights[i]\n",
    "        self.target_model.set_weights(target_weights)\n",
    "\n",
    "\n",
    "    def act(self, state):\n",
    "        # Exploration\n",
    "        if np.random.random() < self.epsilon:\n",
    "            return random.randint(0,3)\n",
    "\n",
    "        return np.argmax(self.model.predict(state)[0])"
   ]
  },
  {
   "cell_type": "code",
   "execution_count": 28,
   "metadata": {},
   "outputs": [],
   "source": [
    "def cobra_main(dqn_agent = Cobra(), nb_gens=10, max_action=500, show=True):\n",
    "    \"\"\"\n",
    "    Learns and play Snake\n",
    "    dqn_agent : Agent with preset\n",
    "    nb_gens = number of games for training\n",
    "    max_action = max number of action before next game\n",
    "    show : True if you want to play with no randomness after training\n",
    "    \"\"\"\n",
    "    env = Env(False)\n",
    "\n",
    "    # Nb games played with no random move\n",
    "    nb_games = 2\n",
    "\n",
    "    # Recording score\n",
    "    scores = [0] * nb_gens\n",
    "\n",
    "    for trial in range(nb_gens + nb_games):\n",
    "        print(\"Game : \", trial, \" | Epsilon is \", dqn_agent.epsilon)\n",
    "\n",
    "        # Does not show game until this end of the traning\n",
    "        if trial == nb_gens and show:\n",
    "            print(\"Traning Done\")\n",
    "            env.init_pygame()\n",
    "            pygame.event.get()\n",
    "            dqn_agent.epsilon = 0\n",
    "            print('--- Cobra is playing ---')\n",
    "\n",
    "        cur_state = np.array(env.reset()).reshape(1,8)\n",
    "        for step in range(max_action):\n",
    "            # Get the action from Cobra based on the current state\n",
    "            action = dqn_agent.act(cur_state)\n",
    "\n",
    "            # Applying move to environement to get a reward and a new state\n",
    "            new_state, reward, done = env.step(action)\n",
    "\n",
    "            # reward = reward if not done else -20\n",
    "            new_state = np.array(new_state).reshape(1,8)\n",
    "\n",
    "            # Remember the state, the move and the reward it got.\n",
    "            dqn_agent.remember(cur_state, action, reward, new_state, done)\n",
    "\n",
    "            cur_state = new_state\n",
    "            # If has lost/won\n",
    "            if done:\n",
    "                dqn_agent.replay()\n",
    "                dqn_agent.target_train()\n",
    "                break\n",
    "        if trial < nb_gens:\n",
    "            scores[trial] = env.score\n",
    "    print(\"Done\")\n",
    "    return scores"
   ]
  },
  {
   "cell_type": "markdown",
   "metadata": {},
   "source": [
    "### ----------------------------------------------------"
   ]
  },
  {
   "cell_type": "markdown",
   "metadata": {},
   "source": [
    "To get the best parameters, you will train different Cobras using different values. The parameters we are going to modify are the followings :\n",
    "- self.epsilon_decay\n",
    "- self.learning_rate"
   ]
  },
  {
   "cell_type": "code",
   "execution_count": 116,
   "metadata": {},
   "outputs": [
    {
     "name": "stdout",
     "output_type": "stream",
     "text": [
      "[0.   0.25 0.5  0.75 1.  ]\n",
      "[0.0005  0.00075 0.001   0.00125 0.0015 ]\n"
     ]
    }
   ],
   "source": [
    "l_epsilon_rate = np.linspace(0,1,5)\n",
    "l_rate = np.linspace(0.0005,0.0015,5)\n",
    "print(l_epsilon_rate)\n",
    "print(l_rate)"
   ]
  },
  {
   "cell_type": "code",
   "execution_count": 99,
   "metadata": {},
   "outputs": [
    {
     "name": "stdout",
     "output_type": "stream",
     "text": [
      "done\n"
     ]
    }
   ],
   "source": [
    "matrix_cobra = []\n",
    "\n",
    "for eps in l_epsilon_rate :\n",
    "    line_rate = []\n",
    "    for rate in l_rate :\n",
    "        line_rate.append(Cobra(epsilon_decay = eps, learning_rate = rate))\n",
    "    matrix_cobra.append(line_rate)\n",
    "print('done')"
   ]
  },
  {
   "cell_type": "code",
   "execution_count": 100,
   "metadata": {},
   "outputs": [
    {
     "name": "stdout",
     "output_type": "stream",
     "text": [
      "[[<__main__.Cobra object at 0x7f930c816d10>\n",
      "  <__main__.Cobra object at 0x7f930dbba050>\n",
      "  <__main__.Cobra object at 0x7f930c8aae50>\n",
      "  <__main__.Cobra object at 0x7f93260b1890>\n",
      "  <__main__.Cobra object at 0x7f930cbc2f50>]\n",
      " [<__main__.Cobra object at 0x7f930db13e10>\n",
      "  <__main__.Cobra object at 0x7f930db6fcd0>\n",
      "  <__main__.Cobra object at 0x7f930dcc6750>\n",
      "  <__main__.Cobra object at 0x7f932683f790>\n",
      "  <__main__.Cobra object at 0x7f9325eb4050>]\n",
      " [<__main__.Cobra object at 0x7f930db21ed0>\n",
      "  <__main__.Cobra object at 0x7f930ddac250>\n",
      "  <__main__.Cobra object at 0x7f930ddda410>\n",
      "  <__main__.Cobra object at 0x7f930dcca1d0>\n",
      "  <__main__.Cobra object at 0x7f930de35f50>]\n",
      " [<__main__.Cobra object at 0x7f930de6df90>\n",
      "  <__main__.Cobra object at 0x7f930de92850>\n",
      "  <__main__.Cobra object at 0x7f930deb6490>\n",
      "  <__main__.Cobra object at 0x7f930dedfd50>\n",
      "  <__main__.Cobra object at 0x7f930df1d290>]\n",
      " [<__main__.Cobra object at 0x7f930df53490>\n",
      "  <__main__.Cobra object at 0x7f930df4c610>\n",
      "  <__main__.Cobra object at 0x7f930df9d750>\n",
      "  <__main__.Cobra object at 0x7f930dfdc190>\n",
      "  <__main__.Cobra object at 0x7f930e007050>]]\n",
      "(5, 5)\n"
     ]
    }
   ],
   "source": [
    "matrix_cobra = np.array(matrix_cobra)\n",
    "print(matrix_cobra)\n",
    "print(matrix_cobra.shape)"
   ]
  },
  {
   "cell_type": "code",
   "execution_count": 106,
   "metadata": {},
   "outputs": [
    {
     "name": "stdout",
     "output_type": "stream",
     "text": [
      "epsilon_decay :  0.0\n",
      "learning_rate :  0.0005\n",
      "Game :  0  | Epsilon is  1.0\n",
      "Game :  1  | Epsilon is  0.01\n",
      "Game :  2  | Epsilon is  0.01\n",
      "Game :  3  | Epsilon is  0.01\n",
      "Game :  4  | Epsilon is  0.01\n",
      "Done\n",
      "The score : 0.0\n",
      "epsilon_decay :  0.0\n",
      "learning_rate :  0.00075\n",
      "Game :  0  | Epsilon is  1.0\n",
      "Game :  1  | Epsilon is  1.0\n",
      "Game :  2  | Epsilon is  0.01\n",
      "Game :  3  | Epsilon is  0.01\n",
      "Game :  4  | Epsilon is  0.01\n",
      "Done\n",
      "The score : 0.3333333333333333\n",
      "epsilon_decay :  0.0\n",
      "learning_rate :  0.001\n",
      "Game :  0  | Epsilon is  1.0\n",
      "Game :  1  | Epsilon is  1.0\n",
      "Game :  2  | Epsilon is  0.01\n",
      "Game :  3  | Epsilon is  0.01\n",
      "Game :  4  | Epsilon is  0.01\n",
      "Done\n",
      "The score : 0.0\n",
      "epsilon_decay :  0.0\n",
      "learning_rate :  0.00125\n",
      "Game :  0  | Epsilon is  1.0\n",
      "Game :  1  | Epsilon is  1.0\n",
      "Game :  2  | Epsilon is  0.01\n",
      "Game :  3  | Epsilon is  0.01\n",
      "Game :  4  | Epsilon is  0.01\n",
      "Done\n",
      "The score : 0.0\n",
      "epsilon_decay :  0.0\n",
      "learning_rate :  0.0015\n",
      "Game :  0  | Epsilon is  1.0\n",
      "Game :  1  | Epsilon is  1.0\n",
      "Game :  2  | Epsilon is  0.01\n",
      "Game :  3  | Epsilon is  0.01\n",
      "Game :  4  | Epsilon is  0.01\n",
      "Done\n",
      "The score : 0.0\n",
      "epsilon_decay :  0.25\n",
      "learning_rate :  0.0005\n",
      "Game :  0  | Epsilon is  1.0\n",
      "Game :  1  | Epsilon is  0.25\n",
      "Game :  2  | Epsilon is  0.25\n",
      "Game :  3  | Epsilon is  0.0625\n",
      "Game :  4  | Epsilon is  0.0625\n",
      "Done\n",
      "The score : 0.0\n",
      "epsilon_decay :  0.25\n",
      "learning_rate :  0.00075\n",
      "Game :  0  | Epsilon is  1.0\n",
      "Game :  1  | Epsilon is  1.0\n",
      "Game :  2  | Epsilon is  0.25\n",
      "Game :  3  | Epsilon is  0.0625\n",
      "Game :  4  | Epsilon is  0.015625\n",
      "Done\n",
      "The score : 0.0\n",
      "epsilon_decay :  0.25\n",
      "learning_rate :  0.001\n",
      "Game :  0  | Epsilon is  1.0\n",
      "Game :  1  | Epsilon is  0.25\n",
      "Game :  2  | Epsilon is  0.0625\n",
      "Game :  3  | Epsilon is  0.0625\n",
      "Game :  4  | Epsilon is  0.015625\n",
      "Done\n",
      "The score : 0.0\n",
      "epsilon_decay :  0.25\n",
      "learning_rate :  0.00125\n",
      "Game :  0  | Epsilon is  1.0\n",
      "Game :  1  | Epsilon is  1.0\n",
      "Game :  2  | Epsilon is  0.25\n",
      "Game :  3  | Epsilon is  0.0625\n",
      "Game :  4  | Epsilon is  0.015625\n",
      "Done\n",
      "The score : 0.0\n",
      "epsilon_decay :  0.25\n",
      "learning_rate :  0.0015\n",
      "Game :  0  | Epsilon is  1.0\n",
      "Game :  1  | Epsilon is  1.0\n",
      "Game :  2  | Epsilon is  0.25\n",
      "Game :  3  | Epsilon is  0.0625\n",
      "Game :  4  | Epsilon is  0.0625\n",
      "Done\n",
      "The score : 0.0\n",
      "epsilon_decay :  0.5\n",
      "learning_rate :  0.0005\n",
      "Game :  0  | Epsilon is  1.0\n",
      "Game :  1  | Epsilon is  0.5\n",
      "Game :  2  | Epsilon is  0.25\n",
      "Game :  3  | Epsilon is  0.25\n",
      "Game :  4  | Epsilon is  0.125\n",
      "Done\n",
      "The score : 0.3333333333333333\n",
      "epsilon_decay :  0.5\n",
      "learning_rate :  0.00075\n",
      "Game :  0  | Epsilon is  1.0\n",
      "Game :  1  | Epsilon is  1.0\n",
      "Game :  2  | Epsilon is  0.5\n",
      "Game :  3  | Epsilon is  0.25\n",
      "Game :  4  | Epsilon is  0.125\n",
      "Done\n",
      "The score : 0.0\n",
      "epsilon_decay :  0.5\n",
      "learning_rate :  0.001\n",
      "Game :  0  | Epsilon is  1.0\n",
      "Game :  1  | Epsilon is  0.5\n",
      "Game :  2  | Epsilon is  0.25\n",
      "Game :  3  | Epsilon is  0.125\n",
      "Game :  4  | Epsilon is  0.0625\n",
      "Done\n",
      "The score : 1.0\n",
      "epsilon_decay :  0.5\n",
      "learning_rate :  0.00125\n",
      "Game :  0  | Epsilon is  1.0\n",
      "Game :  1  | Epsilon is  1.0\n",
      "Game :  2  | Epsilon is  1.0\n",
      "Game :  3  | Epsilon is  0.5\n",
      "Game :  4  | Epsilon is  0.25\n",
      "Done\n",
      "The score : 0.0\n",
      "epsilon_decay :  0.5\n",
      "learning_rate :  0.0015\n",
      "Game :  0  | Epsilon is  1.0\n",
      "Game :  1  | Epsilon is  1.0\n",
      "Game :  2  | Epsilon is  0.5\n",
      "Game :  3  | Epsilon is  0.25\n",
      "Game :  4  | Epsilon is  0.125\n",
      "Done\n",
      "The score : 0.0\n",
      "epsilon_decay :  0.75\n",
      "learning_rate :  0.0005\n",
      "Game :  0  | Epsilon is  1.0\n",
      "Game :  1  | Epsilon is  1.0\n",
      "Game :  2  | Epsilon is  0.75\n",
      "Game :  3  | Epsilon is  0.5625\n",
      "Game :  4  | Epsilon is  0.421875\n",
      "Done\n",
      "The score : 0.3333333333333333\n",
      "epsilon_decay :  0.75\n",
      "learning_rate :  0.00075\n",
      "Game :  0  | Epsilon is  1.0\n",
      "Game :  1  | Epsilon is  1.0\n",
      "Game :  2  | Epsilon is  0.75\n",
      "Game :  3  | Epsilon is  0.5625\n",
      "Game :  4  | Epsilon is  0.421875\n",
      "Done\n",
      "The score : 0.0\n",
      "epsilon_decay :  0.75\n",
      "learning_rate :  0.001\n",
      "Game :  0  | Epsilon is  1.0\n",
      "Game :  1  | Epsilon is  1.0\n",
      "Game :  2  | Epsilon is  0.75\n",
      "Game :  3  | Epsilon is  0.5625\n",
      "Game :  4  | Epsilon is  0.421875\n",
      "Done\n",
      "The score : 0.6666666666666666\n",
      "epsilon_decay :  0.75\n",
      "learning_rate :  0.00125\n",
      "Game :  0  | Epsilon is  1.0\n",
      "Game :  1  | Epsilon is  0.75\n",
      "Game :  2  | Epsilon is  0.5625\n",
      "Game :  3  | Epsilon is  0.421875\n",
      "Game :  4  | Epsilon is  0.31640625\n",
      "Done\n",
      "The score : 0.3333333333333333\n",
      "epsilon_decay :  0.75\n",
      "learning_rate :  0.0015\n",
      "Game :  0  | Epsilon is  1.0\n",
      "Game :  1  | Epsilon is  0.75\n",
      "Game :  2  | Epsilon is  0.5625\n",
      "Game :  3  | Epsilon is  0.421875\n",
      "Game :  4  | Epsilon is  0.31640625\n",
      "Done\n",
      "The score : 0.3333333333333333\n",
      "epsilon_decay :  1.0\n",
      "learning_rate :  0.0005\n",
      "Game :  0  | Epsilon is  1.0\n",
      "Game :  1  | Epsilon is  1.0\n",
      "Game :  2  | Epsilon is  1.0\n",
      "Game :  3  | Epsilon is  1.0\n",
      "Game :  4  | Epsilon is  1.0\n",
      "Done\n",
      "The score : 0.3333333333333333\n",
      "epsilon_decay :  1.0\n",
      "learning_rate :  0.00075\n",
      "Game :  0  | Epsilon is  1.0\n",
      "Game :  1  | Epsilon is  1.0\n",
      "Game :  2  | Epsilon is  1.0\n",
      "Game :  3  | Epsilon is  1.0\n",
      "Game :  4  | Epsilon is  1.0\n",
      "Done\n",
      "The score : 0.3333333333333333\n",
      "epsilon_decay :  1.0\n",
      "learning_rate :  0.001\n",
      "Game :  0  | Epsilon is  1.0\n",
      "Game :  1  | Epsilon is  1.0\n",
      "Game :  2  | Epsilon is  1.0\n",
      "Game :  3  | Epsilon is  1.0\n",
      "Game :  4  | Epsilon is  1.0\n",
      "Done\n",
      "The score : 0.3333333333333333\n",
      "epsilon_decay :  1.0\n",
      "learning_rate :  0.00125\n",
      "Game :  0  | Epsilon is  1.0\n",
      "Game :  1  | Epsilon is  1.0\n",
      "Game :  2  | Epsilon is  1.0\n",
      "Game :  3  | Epsilon is  1.0\n",
      "Game :  4  | Epsilon is  1.0\n",
      "Done\n",
      "The score : 0.0\n",
      "epsilon_decay :  1.0\n",
      "learning_rate :  0.0015\n",
      "Game :  0  | Epsilon is  1.0\n",
      "Game :  1  | Epsilon is  1.0\n",
      "Game :  2  | Epsilon is  1.0\n",
      "Game :  3  | Epsilon is  1.0\n",
      "Game :  4  | Epsilon is  1.0\n",
      "Done\n",
      "The score : 0.0\n",
      "[[0.0, 0.3333333333333333, 0.0, 0.0, 0.0], [0.0, 0.0, 0.0, 0.0, 0.0], [0.3333333333333333, 0.0, 1.0, 0.0, 0.0], [0.3333333333333333, 0.0, 0.6666666666666666, 0.3333333333333333, 0.3333333333333333], [0.3333333333333333, 0.3333333333333333, 0.3333333333333333, 0.0, 0.0]]\n"
     ]
    }
   ],
   "source": [
    "l_score = []\n",
    "for rate_line in matrix_cobra :\n",
    "    rate_score = []\n",
    "    for agent in rate_line  :\n",
    "        \n",
    "        print(\"epsilon_decay : \", agent.epsilon_decay)\n",
    "        print(\"learning_rate : \", agent.learning_rate)\n",
    "        \n",
    "        score = np.mean(cobra_main(dqn_agent = agent, nb_gens = 3, max_action = 200, show = False))\n",
    "        rate_score.append(score)\n",
    "        print('The score :', score)\n",
    "    l_score.append(rate_score)\n",
    "\n",
    "print(l_score)"
   ]
  },
  {
   "cell_type": "markdown",
   "metadata": {},
   "source": [
    "Remark : the score is evaluated on two games."
   ]
  },
  {
   "cell_type": "code",
   "execution_count": 107,
   "metadata": {},
   "outputs": [
    {
     "name": "stdout",
     "output_type": "stream",
     "text": [
      "[[0.         0.33333333 0.         0.         0.        ]\n",
      " [0.         0.         0.         0.         0.        ]\n",
      " [0.33333333 0.         1.         0.         0.        ]\n",
      " [0.33333333 0.         0.66666667 0.33333333 0.33333333]\n",
      " [0.33333333 0.33333333 0.33333333 0.         0.        ]]\n"
     ]
    }
   ],
   "source": [
    "l_score = np.array(l_score)\n",
    "print(l_score)"
   ]
  },
  {
   "cell_type": "markdown",
   "metadata": {},
   "source": [
    "#### !!! Warning : The following line needs to be run once only !!!"
   ]
  },
  {
   "cell_type": "code",
   "execution_count": 120,
   "metadata": {},
   "outputs": [],
   "source": [
    "l_epsilon_rate, l_rate = np.meshgrid(l_epsilon_rate,l_rate)"
   ]
  },
  {
   "cell_type": "markdown",
   "metadata": {},
   "source": [
    "#### -----------------------------------------------------------"
   ]
  },
  {
   "cell_type": "code",
   "execution_count": 123,
   "metadata": {},
   "outputs": [
    {
     "data": {
      "text/plain": [
       "Text(0.5, 0.92, 'The score')"
      ]
     },
     "execution_count": 123,
     "metadata": {},
     "output_type": "execute_result"
    }
   ],
   "source": [
    "#%matplotlib\n",
    "\n",
    "l_score = np.array(l_score)\n",
    "\n",
    "\n",
    "graph = plt.axes(projection='3d', xlabel = 'Epsilon_decay', ylabel = 'Learnin_rate')\n",
    "graph.plot_surface(l_epsilon_rate, l_rate, l_score, cmap = 'plasma') \n",
    "plt.title('The score')"
   ]
  },
  {
   "cell_type": "markdown",
   "metadata": {},
   "source": [
    "### Get the best parametrization : (not finished)"
   ]
  },
  {
   "cell_type": "code",
   "execution_count": 81,
   "metadata": {},
   "outputs": [
    {
     "name": "stdout",
     "output_type": "stream",
     "text": [
      "[[0.  0.5 1. ]\n",
      " [0.  0.5 1. ]\n",
      " [0.  0.5 1. ]]\n"
     ]
    }
   ],
   "source": [
    "print(l_epsilon_rate)"
   ]
  },
  {
   "cell_type": "code",
   "execution_count": 124,
   "metadata": {},
   "outputs": [
    {
     "name": "stdout",
     "output_type": "stream",
     "text": [
      "The argmax is : 12\n"
     ]
    }
   ],
   "source": [
    "best_parametrization = argmax(l_score)\n",
    "\n",
    "\n",
    "print('The argmax is :', best_parametrization)"
   ]
  }
 ],
 "metadata": {
  "kernelspec": {
   "display_name": "Python 3",
   "language": "python",
   "name": "python3"
  },
  "language_info": {
   "codemirror_mode": {
    "name": "ipython",
    "version": 3
   },
   "file_extension": ".py",
   "mimetype": "text/x-python",
   "name": "python",
   "nbconvert_exporter": "python",
   "pygments_lexer": "ipython3",
   "version": "3.7.6"
  }
 },
 "nbformat": 4,
 "nbformat_minor": 4
}
